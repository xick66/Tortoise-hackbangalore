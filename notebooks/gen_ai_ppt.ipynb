{
 "cells": [
  {
   "cell_type": "code",
   "execution_count": 4,
   "metadata": {},
   "outputs": [
    {
     "name": "stdout",
     "output_type": "stream",
     "text": [
      "Requirement already satisfied: flask in d:\\deep learning with pytorch\\_pytorch_\\.venv\\lib\\site-packages (3.0.3)\n",
      "Requirement already satisfied: jupyter_client in d:\\deep learning with pytorch\\_pytorch_\\.venv\\lib\\site-packages (8.3.1)\n",
      "Requirement already satisfied: Werkzeug>=3.0.0 in d:\\deep learning with pytorch\\_pytorch_\\.venv\\lib\\site-packages (from flask) (3.0.3)\n",
      "Requirement already satisfied: Jinja2>=3.1.2 in d:\\deep learning with pytorch\\_pytorch_\\.venv\\lib\\site-packages (from flask) (3.1.2)\n",
      "Requirement already satisfied: itsdangerous>=2.1.2 in d:\\deep learning with pytorch\\_pytorch_\\.venv\\lib\\site-packages (from flask) (2.2.0)\n",
      "Requirement already satisfied: click>=8.1.3 in d:\\deep learning with pytorch\\_pytorch_\\.venv\\lib\\site-packages (from flask) (8.1.7)\n",
      "Requirement already satisfied: blinker>=1.6.2 in d:\\deep learning with pytorch\\_pytorch_\\.venv\\lib\\site-packages (from flask) (1.8.2)\n",
      "Requirement already satisfied: importlib-metadata>=3.6.0 in d:\\deep learning with pytorch\\_pytorch_\\.venv\\lib\\site-packages (from flask) (6.8.0)\n",
      "Requirement already satisfied: jupyter-core!=5.0.*,>=4.12 in d:\\deep learning with pytorch\\_pytorch_\\.venv\\lib\\site-packages (from jupyter_client) (5.3.1)\n",
      "Requirement already satisfied: python-dateutil>=2.8.2 in d:\\deep learning with pytorch\\_pytorch_\\.venv\\lib\\site-packages (from jupyter_client) (2.8.2)\n",
      "Requirement already satisfied: pyzmq>=23.0 in d:\\deep learning with pytorch\\_pytorch_\\.venv\\lib\\site-packages (from jupyter_client) (25.1.1)\n",
      "Requirement already satisfied: tornado>=6.2 in d:\\deep learning with pytorch\\_pytorch_\\.venv\\lib\\site-packages (from jupyter_client) (6.3.3)\n",
      "Requirement already satisfied: traitlets>=5.3 in d:\\deep learning with pytorch\\_pytorch_\\.venv\\lib\\site-packages (from jupyter_client) (5.10.1)\n",
      "Requirement already satisfied: colorama in d:\\deep learning with pytorch\\_pytorch_\\.venv\\lib\\site-packages (from click>=8.1.3->flask) (0.4.6)\n",
      "Requirement already satisfied: zipp>=0.5 in d:\\deep learning with pytorch\\_pytorch_\\.venv\\lib\\site-packages (from importlib-metadata>=3.6.0->flask) (3.17.0)\n",
      "Requirement already satisfied: MarkupSafe>=2.0 in d:\\deep learning with pytorch\\_pytorch_\\.venv\\lib\\site-packages (from Jinja2>=3.1.2->flask) (2.1.3)\n",
      "Requirement already satisfied: platformdirs>=2.5 in d:\\deep learning with pytorch\\_pytorch_\\.venv\\lib\\site-packages (from jupyter-core!=5.0.*,>=4.12->jupyter_client) (3.10.0)\n",
      "Requirement already satisfied: pywin32>=300 in d:\\deep learning with pytorch\\_pytorch_\\.venv\\lib\\site-packages (from jupyter-core!=5.0.*,>=4.12->jupyter_client) (306)\n",
      "Requirement already satisfied: six>=1.5 in d:\\deep learning with pytorch\\_pytorch_\\.venv\\lib\\site-packages (from python-dateutil>=2.8.2->jupyter_client) (1.16.0)\n"
     ]
    },
    {
     "name": "stderr",
     "output_type": "stream",
     "text": [
      "\n",
      "[notice] A new release of pip is available: 23.2.1 -> 24.0\n",
      "[notice] To update, run: python.exe -m pip install --upgrade pip\n"
     ]
    }
   ],
   "source": [
    "!pip install flask jupyter_client"
   ]
  },
  {
   "cell_type": "code",
   "execution_count": 5,
   "metadata": {},
   "outputs": [
    {
     "name": "stdout",
     "output_type": "stream",
     "text": [
      "Requirement already satisfied: flask-cors in d:\\deep learning with pytorch\\_pytorch_\\.venv\\lib\\site-packages (4.0.1)"
     ]
    },
    {
     "name": "stderr",
     "output_type": "stream",
     "text": [
      "\n",
      "[notice] A new release of pip is available: 23.2.1 -> 24.0\n",
      "[notice] To update, run: python.exe -m pip install --upgrade pip\n"
     ]
    },
    {
     "name": "stdout",
     "output_type": "stream",
     "text": [
      "\n",
      "Requirement already satisfied: Flask>=0.9 in d:\\deep learning with pytorch\\_pytorch_\\.venv\\lib\\site-packages (from flask-cors) (3.0.3)\n",
      "Requirement already satisfied: Werkzeug>=3.0.0 in d:\\deep learning with pytorch\\_pytorch_\\.venv\\lib\\site-packages (from Flask>=0.9->flask-cors) (3.0.3)\n",
      "Requirement already satisfied: Jinja2>=3.1.2 in d:\\deep learning with pytorch\\_pytorch_\\.venv\\lib\\site-packages (from Flask>=0.9->flask-cors) (3.1.2)\n",
      "Requirement already satisfied: itsdangerous>=2.1.2 in d:\\deep learning with pytorch\\_pytorch_\\.venv\\lib\\site-packages (from Flask>=0.9->flask-cors) (2.2.0)\n",
      "Requirement already satisfied: click>=8.1.3 in d:\\deep learning with pytorch\\_pytorch_\\.venv\\lib\\site-packages (from Flask>=0.9->flask-cors) (8.1.7)\n",
      "Requirement already satisfied: blinker>=1.6.2 in d:\\deep learning with pytorch\\_pytorch_\\.venv\\lib\\site-packages (from Flask>=0.9->flask-cors) (1.8.2)\n",
      "Requirement already satisfied: importlib-metadata>=3.6.0 in d:\\deep learning with pytorch\\_pytorch_\\.venv\\lib\\site-packages (from Flask>=0.9->flask-cors) (6.8.0)\n",
      "Requirement already satisfied: colorama in d:\\deep learning with pytorch\\_pytorch_\\.venv\\lib\\site-packages (from click>=8.1.3->Flask>=0.9->flask-cors) (0.4.6)\n",
      "Requirement already satisfied: zipp>=0.5 in d:\\deep learning with pytorch\\_pytorch_\\.venv\\lib\\site-packages (from importlib-metadata>=3.6.0->Flask>=0.9->flask-cors) (3.17.0)\n",
      "Requirement already satisfied: MarkupSafe>=2.0 in d:\\deep learning with pytorch\\_pytorch_\\.venv\\lib\\site-packages (from Jinja2>=3.1.2->Flask>=0.9->flask-cors) (2.1.3)\n"
     ]
    }
   ],
   "source": [
    "!pip install flask-cors"
   ]
  },
  {
   "cell_type": "code",
   "execution_count": 6,
   "metadata": {},
   "outputs": [
    {
     "name": "stdout",
     "output_type": "stream",
     "text": [
      "Requirement already satisfied: openai in d:\\deep learning with pytorch\\_pytorch_\\.venv\\lib\\site-packages (1.28.1)\n",
      "Requirement already satisfied: anyio<5,>=3.5.0 in d:\\deep learning with pytorch\\_pytorch_\\.venv\\lib\\site-packages (from openai) (4.3.0)\n",
      "Requirement already satisfied: distro<2,>=1.7.0 in d:\\deep learning with pytorch\\_pytorch_\\.venv\\lib\\site-packages (from openai) (1.9.0)\n",
      "Requirement already satisfied: httpx<1,>=0.23.0 in d:\\deep learning with pytorch\\_pytorch_\\.venv\\lib\\site-packages (from openai) (0.27.0)\n",
      "Requirement already satisfied: pydantic<3,>=1.9.0 in d:\\deep learning with pytorch\\_pytorch_\\.venv\\lib\\site-packages (from openai) (2.7.1)\n",
      "Requirement already satisfied: sniffio in d:\\deep learning with pytorch\\_pytorch_\\.venv\\lib\\site-packages (from openai) (1.3.1)\n",
      "Requirement already satisfied: tqdm>4 in d:\\deep learning with pytorch\\_pytorch_\\.venv\\lib\\site-packages (from openai) (4.66.1)\n",
      "Requirement already satisfied: typing-extensions<5,>=4.7 in d:\\deep learning with pytorch\\_pytorch_\\.venv\\lib\\site-packages (from openai) (4.8.0)\n",
      "Requirement already satisfied: idna>=2.8 in d:\\deep learning with pytorch\\_pytorch_\\.venv\\lib\\site-packages (from anyio<5,>=3.5.0->openai) (3.4)\n",
      "Requirement already satisfied: exceptiongroup>=1.0.2 in d:\\deep learning with pytorch\\_pytorch_\\.venv\\lib\\site-packages (from anyio<5,>=3.5.0->openai) (1.1.3)\n",
      "Requirement already satisfied: certifi in d:\\deep learning with pytorch\\_pytorch_\\.venv\\lib\\site-packages (from httpx<1,>=0.23.0->openai) (2023.7.22)\n",
      "Requirement already satisfied: httpcore==1.* in d:\\deep learning with pytorch\\_pytorch_\\.venv\\lib\\site-packages (from httpx<1,>=0.23.0->openai) (1.0.5)\n",
      "Requirement already satisfied: h11<0.15,>=0.13 in d:\\deep learning with pytorch\\_pytorch_\\.venv\\lib\\site-packages (from httpcore==1.*->httpx<1,>=0.23.0->openai) (0.14.0)\n",
      "Requirement already satisfied: annotated-types>=0.4.0 in d:\\deep learning with pytorch\\_pytorch_\\.venv\\lib\\site-packages (from pydantic<3,>=1.9.0->openai) (0.6.0)\n",
      "Requirement already satisfied: pydantic-core==2.18.2 in d:\\deep learning with pytorch\\_pytorch_\\.venv\\lib\\site-packages (from pydantic<3,>=1.9.0->openai) (2.18.2)\n",
      "Requirement already satisfied: colorama in d:\\deep learning with pytorch\\_pytorch_\\.venv\\lib\\site-packages (from tqdm>4->openai) (0.4.6)\n",
      "Note: you may need to restart the kernel to use updated packages.\n"
     ]
    },
    {
     "name": "stderr",
     "output_type": "stream",
     "text": [
      "\n",
      "[notice] A new release of pip is available: 23.2.1 -> 24.0\n",
      "[notice] To update, run: python.exe -m pip install --upgrade pip\n"
     ]
    }
   ],
   "source": [
    "pip install --upgrade openai"
   ]
  },
  {
   "cell_type": "code",
   "execution_count": 7,
   "metadata": {},
   "outputs": [
    {
     "name": "stdout",
     "output_type": "stream",
     "text": [
      "1.28.1\n"
     ]
    }
   ],
   "source": [
    "import openai\n",
    "print(openai.__version__)"
   ]
  },
  {
   "cell_type": "code",
   "execution_count": 8,
   "metadata": {},
   "outputs": [
    {
     "name": "stdout",
     "output_type": "stream",
     "text": [
      "Requirement already satisfied: python-pptx in d:\\deep learning with pytorch\\_pytorch_\\.venv\\lib\\site-packages (0.6.23)\n",
      "Requirement already satisfied: lxml>=3.1.0 in d:\\deep learning with pytorch\\_pytorch_\\.venv\\lib\\site-packages (from python-pptx) (4.9.3)\n",
      "Requirement already satisfied: Pillow>=3.3.2 in d:\\deep learning with pytorch\\_pytorch_\\.venv\\lib\\site-packages (from python-pptx) (10.0.1)\n",
      "Requirement already satisfied: XlsxWriter>=0.5.7 in d:\\deep learning with pytorch\\_pytorch_\\.venv\\lib\\site-packages (from python-pptx) (3.2.0)\n",
      "Note: you may need to restart the kernel to use updated packages.\n"
     ]
    },
    {
     "name": "stderr",
     "output_type": "stream",
     "text": [
      "\n",
      "[notice] A new release of pip is available: 23.2.1 -> 24.0\n",
      "[notice] To update, run: python.exe -m pip install --upgrade pip\n"
     ]
    }
   ],
   "source": [
    "pip install python-pptx"
   ]
  },
  {
   "cell_type": "code",
   "execution_count": 9,
   "metadata": {},
   "outputs": [
    {
     "name": "stdout",
     "output_type": "stream",
     "text": [
      "Collecting openpyxl\n",
      "  Obtaining dependency information for openpyxl from https://files.pythonhosted.org/packages/6a/94/a59521de836ef0da54aaf50da6c4da8fb4072fb3053fa71f052fd9399e7a/openpyxl-3.1.2-py2.py3-none-any.whl.metadata\n",
      "  Downloading openpyxl-3.1.2-py2.py3-none-any.whl.metadata (2.5 kB)\n",
      "Collecting et-xmlfile (from openpyxl)\n",
      "  Obtaining dependency information for et-xmlfile from https://files.pythonhosted.org/packages/96/c2/3dd434b0108730014f1b96fd286040dc3bcb70066346f7e01ec2ac95865f/et_xmlfile-1.1.0-py3-none-any.whl.metadata\n",
      "  Downloading et_xmlfile-1.1.0-py3-none-any.whl.metadata (1.8 kB)\n",
      "Downloading openpyxl-3.1.2-py2.py3-none-any.whl (249 kB)\n",
      "   ---------------------------------------- 0.0/250.0 kB ? eta -:--:--\n",
      "   -------------- ------------------------- 92.2/250.0 kB 2.6 MB/s eta 0:00:01\n",
      "   ------------------------------------ --- 225.3/250.0 kB 3.5 MB/s eta 0:00:01\n",
      "   ---------------------------------------- 250.0/250.0 kB 3.1 MB/s eta 0:00:00\n",
      "Downloading et_xmlfile-1.1.0-py3-none-any.whl (4.7 kB)\n",
      "Installing collected packages: et-xmlfile, openpyxl\n",
      "Successfully installed et-xmlfile-1.1.0 openpyxl-3.1.2\n",
      "Note: you may need to restart the kernel to use updated packages.\n"
     ]
    },
    {
     "name": "stderr",
     "output_type": "stream",
     "text": [
      "\n",
      "[notice] A new release of pip is available: 23.2.1 -> 24.0\n",
      "[notice] To update, run: python.exe -m pip install --upgrade pip\n"
     ]
    }
   ],
   "source": [
    "pip install openpyxl\n"
   ]
  },
  {
   "cell_type": "code",
   "execution_count": 55,
   "metadata": {},
   "outputs": [],
   "source": [
    "import jupyter_client\n",
    "from flask import Flask, request, jsonify, render_template, send_file\n",
    "from flask_cors import CORS\n",
    "from pptx import Presentation\n",
    "from pptx.util import Pt\n",
    "import os\n",
    "import io\n",
    "from pptx.enum.text import PP_ALIGN\n",
    "from pptx.dml.color import RGBColor\n",
    "from openai import OpenAI\n",
    "from openpyxl import Workbook"
   ]
  },
  {
   "cell_type": "code",
   "execution_count": 56,
   "metadata": {},
   "outputs": [
    {
     "data": {
      "text/plain": [
       "<flask_cors.extension.CORS at 0x1df47278c10>"
      ]
     },
     "execution_count": 56,
     "metadata": {},
     "output_type": "execute_result"
    }
   ],
   "source": [
    "app = Flask(__name__)\n",
    "# CORS(app, resources={r\"/*\": {\"origins\": \"http://localhost:3000\"}})\n",
    "CORS(app)"
   ]
  },
  {
   "cell_type": "code",
   "execution_count": 57,
   "metadata": {},
   "outputs": [
    {
     "name": "stdout",
     "output_type": "stream",
     "text": [
      " * Serving Flask app '__main__'\n",
      " * Debug mode: on\n"
     ]
    },
    {
     "name": "stderr",
     "output_type": "stream",
     "text": [
      "WARNING: This is a development server. Do not use it in a production deployment. Use a production WSGI server instead.\n",
      " * Running on http://127.0.0.1:8000\n",
      "Press CTRL+C to quit\n",
      "127.0.0.1 - - [11/May/2024 23:02:19] \"GET / HTTP/1.1\" 200 -\n"
     ]
    },
    {
     "name": "stdout",
     "output_type": "stream",
     "text": [
      "Something about humans and their will to survive\n",
      "sk-proj-TYcssHY0HC7h0uTnCDI4T3BlbkFJtZa3DvaZLAJctiACaze2\n"
     ]
    },
    {
     "name": "stderr",
     "output_type": "stream",
     "text": [
      "127.0.0.1 - - [11/May/2024 23:02:30] \"POST /send-gen-ppt HTTP/1.1\" 200 -\n"
     ]
    },
    {
     "name": "stdout",
     "output_type": "stream",
     "text": [
      "Slide 1:\n",
      "Title: The Power of Survival\n",
      "Content:\n",
      "- Humans are remarkable creatures who possess a strong will to survive in challenging circumstances.\n",
      "- Our ability to adapt, innovate, and persevere in the face of adversity is a testament to our resilience as a species.\n",
      "\n",
      "Slide 2:\n",
      "Title: Survival Instincts\n",
      "Content:\n",
      "- From the earliest days of our evolution, humans have developed survival instincts that drive us to seek food, shelter, and safety.\n",
      "- Our fight-or-flight response, critical thinking skills, and social cooperation have all played a role in our ability to overcome obstacles and thrive.\n",
      "\n",
      "Slide 3:\n",
      "Title: Lessons from the Past\n",
      "Content:\n",
      "- Throughout history, humans have faced and survived countless hardships, from natural disasters to wars and pandemics.\n",
      "- By learning from our past experiences and drawing inspiration from our ancestors, we can continue to navigate challenges and build a better future for generations to come.\n"
     ]
    }
   ],
   "source": [
    "@app.route('/send-gen-ppt', methods=['POST'])\n",
    "def receive_message():\n",
    "    data = request.json  # Assuming JSON payload\n",
    "    if not data:\n",
    "        return {\"error\": \"No data received.\"}\n",
    "    ans = data['searchQuery']\n",
    "    print(ans)\n",
    "    api_key = \"\"  # Fetch your API key from environment variables\n",
    "    if not api_key:\n",
    "        return {\"error\": \"OpenAI API key not found.\"}\n",
    "\n",
    "    print(api_key)\n",
    "    client = OpenAI(api_key=api_key)\n",
    "\n",
    "    TEMPLATE_FILE = \"D://hackblr//frontend--search//pages//notebooks//template.pptx\"\n",
    "    if not os.path.exists(TEMPLATE_FILE):\n",
    "        return {\"error\": \"Template file not found.\"}\n",
    "\n",
    "    presentation_title=\"ABCD\"\n",
    "    slide_contents = ans\n",
    "\n",
    "    user_message_content = f\"Create a presentation with 3 slides.\\n\" \\\n",
    "                           f\"Presentation title: {presentation_title}\\n\" \\\n",
    "                           f\"Slide content: {slide_contents}\\n\"\n",
    "\n",
    "    chat_completion = client.chat.completions.create(\n",
    "        messages=[\n",
    "            {\"role\": \"system\", \"content\": \"You are an assistant that gives ideas for PowerPoint presentations.\"},\n",
    "            {\"role\": \"user\", \"content\": user_message_content},\n",
    "        ],\n",
    "        model=\"gpt-3.5-turbo\",\n",
    "    )\n",
    "    print(chat_completion.choices[0].message.content)\n",
    "    if chat_completion.choices[0].message.content:\n",
    "        generated_text = chat_completion.choices[0].message.content\n",
    "\n",
    "        presentation = Presentation(TEMPLATE_FILE)\n",
    "\n",
    "        slides = generated_text.split(\"Slide\")\n",
    "\n",
    "        if len(slides) - 1 <= len(presentation.slides):\n",
    "            for i, slide_content in enumerate(slides[1:], start=0):\n",
    "                content_lines = slide_content.strip().split(\"\\n\")\n",
    "                if len(content_lines) >= 2:\n",
    "                    slide_title = content_lines[0].strip()\n",
    "                    slide_content = content_lines[1:]  # Extract bullet points\n",
    "\n",
    "                    slide = presentation.slides[i]\n",
    "                    title = slide.shapes.title\n",
    "                    content_box = slide.placeholders[1]\n",
    "\n",
    "                    title.text = slide_title\n",
    "                    title.text_frame.paragraphs[0].font.color.rgb = RGBColor(255, 255, 255)\n",
    "\n",
    "                    content_box.text = \"\"  # Clear existing text\n",
    "                    content_frame = content_box.text_frame\n",
    "                    content_frame.clear()  # Clear existing paragraphs\n",
    "                    for point in slide_content:\n",
    "                        p = content_frame.add_paragraph()\n",
    "                        p.text = point.strip()\n",
    "                        p.font.color.rgb = RGBColor(255, 255, 255)\n",
    "                        p.space_after = Pt(14)  # Adjust spacing between bullet points\n",
    "\n",
    "        else:\n",
    "            return {\"error\": \"The template has fewer slides than required.\"}\n",
    "\n",
    "\n",
    "        # Save the PowerPoint presentation in the local directory\n",
    "        \n",
    "\n",
    "#         pptx_bytes = io.BytesIO()\n",
    "#         presentation.save(pptx_bytes)\n",
    "#         pptx_bytes.seek(0)\n",
    "\n",
    "#         with open('generated_presentation.pptx', 'wb') as f:\n",
    "#             f.write(pptx_bytes.read())\n",
    "\n",
    "\n",
    "\n",
    "\n",
    "\n",
    "#         pptx_bytes = io.BytesIO()\n",
    "#         presentation.save(pptx_bytes)\n",
    "#         pptx_bytes.seek(0)\n",
    "\n",
    "#         return send_file(\n",
    "#                 pptx_bytes,\n",
    "#                 mimetype='application/vnd.openxmlformats-officedocument.presentationml.presentation',\n",
    "#                 as_attachment=True,\n",
    "#                 download_name=f\"{presentation_title}.pptx\"\n",
    "# )\n",
    "\n",
    "    else:\n",
    "        return {\"error\": \"No response from OpenAI.\"}\n",
    "\n",
    "\n",
    "\n",
    "    \n",
    "    return jsonify({\"message\": \"Search query received successfully\"})\n",
    "    # if 'searchQuery' in data:\n",
    "    #     search_query = data['searchQuery']\n",
    "    #     print(search_query)\n",
    "    #     # Process the search query here\n",
    "    #     return jsonify({\"message\": \"Search query received successfully\"})\n",
    "    # else:\n",
    "    #     return jsonify({\"error\": \"Missing 'searchQuery' field in JSON payload\"}), 400\n",
    "\n",
    "@app.route(\"/revert-gen-ppt\", methods=['GET'])\n",
    "def return_home():\n",
    "    return jsonify({\n",
    "        \"message\" : \"Message-Gone\"\n",
    "    })\n",
    "app.run(debug=True, use_reloader=False, port=8000)"
   ]
  }
 ],
 "metadata": {
  "kernelspec": {
   "display_name": "PyTorchWork",
   "language": "python",
   "name": "pytorchwork"
  },
  "language_info": {
   "codemirror_mode": {
    "name": "ipython",
    "version": 3
   },
   "file_extension": ".py",
   "mimetype": "text/x-python",
   "name": "python",
   "nbconvert_exporter": "python",
   "pygments_lexer": "ipython3",
   "version": "3.9.0"
  }
 },
 "nbformat": 4,
 "nbformat_minor": 2
}
