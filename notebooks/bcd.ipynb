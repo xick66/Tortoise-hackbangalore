{
 "cells": [
  {
   "cell_type": "code",
   "execution_count": 3,
   "metadata": {},
   "outputs": [
    {
     "name": "stdout",
     "output_type": "stream",
     "text": [
      "Requirement already satisfied: openai in d:\\deep learning with pytorch\\_pytorch_\\.venv\\lib\\site-packages (0.28.1)\n",
      "Collecting openai\n",
      "  Obtaining dependency information for openai from https://files.pythonhosted.org/packages/8d/36/47f191936fb61eb7efaee5e727fb962be82b0f66e979a32446d22f3f99cc/openai-1.28.1-py3-none-any.whl.metadata\n",
      "  Downloading openai-1.28.1-py3-none-any.whl.metadata (21 kB)\n",
      "Collecting anyio<5,>=3.5.0 (from openai)\n",
      "  Obtaining dependency information for anyio<5,>=3.5.0 from https://files.pythonhosted.org/packages/14/fd/2f20c40b45e4fb4324834aea24bd4afdf1143390242c0b33774da0e2e34f/anyio-4.3.0-py3-none-any.whl.metadata\n",
      "  Downloading anyio-4.3.0-py3-none-any.whl.metadata (4.6 kB)\n",
      "Collecting distro<2,>=1.7.0 (from openai)\n",
      "  Obtaining dependency information for distro<2,>=1.7.0 from https://files.pythonhosted.org/packages/12/b3/231ffd4ab1fc9d679809f356cebee130ac7daa00d6d6f3206dd4fd137e9e/distro-1.9.0-py3-none-any.whl.metadata\n",
      "  Downloading distro-1.9.0-py3-none-any.whl.metadata (6.8 kB)\n",
      "Collecting httpx<1,>=0.23.0 (from openai)\n",
      "  Obtaining dependency information for httpx<1,>=0.23.0 from https://files.pythonhosted.org/packages/41/7b/ddacf6dcebb42466abd03f368782142baa82e08fc0c1f8eaa05b4bae87d5/httpx-0.27.0-py3-none-any.whl.metadata\n",
      "  Downloading httpx-0.27.0-py3-none-any.whl.metadata (7.2 kB)\n",
      "Collecting pydantic<3,>=1.9.0 (from openai)\n",
      "  Obtaining dependency information for pydantic<3,>=1.9.0 from https://files.pythonhosted.org/packages/ed/76/9a17032880ed27f2dbd490c77a3431cbc80f47ba81534131de3c2846e736/pydantic-2.7.1-py3-none-any.whl.metadata\n",
      "  Downloading pydantic-2.7.1-py3-none-any.whl.metadata (107 kB)\n",
      "     ---------------------------------------- 0.0/107.3 kB ? eta -:--:--\n",
      "     ----------------------------- --------- 81.9/107.3 kB 2.3 MB/s eta 0:00:01\n",
      "     -------------------------------------- 107.3/107.3 kB 2.1 MB/s eta 0:00:00\n",
      "Collecting sniffio (from openai)\n",
      "  Obtaining dependency information for sniffio from https://files.pythonhosted.org/packages/e9/44/75a9c9421471a6c4805dbf2356f7c181a29c1879239abab1ea2cc8f38b40/sniffio-1.3.1-py3-none-any.whl.metadata\n",
      "  Downloading sniffio-1.3.1-py3-none-any.whl.metadata (3.9 kB)\n",
      "Requirement already satisfied: tqdm>4 in d:\\deep learning with pytorch\\_pytorch_\\.venv\\lib\\site-packages (from openai) (4.66.1)\n",
      "Requirement already satisfied: typing-extensions<5,>=4.7 in d:\\deep learning with pytorch\\_pytorch_\\.venv\\lib\\site-packages (from openai) (4.8.0)\n",
      "Requirement already satisfied: idna>=2.8 in d:\\deep learning with pytorch\\_pytorch_\\.venv\\lib\\site-packages (from anyio<5,>=3.5.0->openai) (3.4)\n",
      "Requirement already satisfied: exceptiongroup>=1.0.2 in d:\\deep learning with pytorch\\_pytorch_\\.venv\\lib\\site-packages (from anyio<5,>=3.5.0->openai) (1.1.3)\n",
      "Requirement already satisfied: certifi in d:\\deep learning with pytorch\\_pytorch_\\.venv\\lib\\site-packages (from httpx<1,>=0.23.0->openai) (2023.7.22)\n",
      "Collecting httpcore==1.* (from httpx<1,>=0.23.0->openai)\n",
      "  Obtaining dependency information for httpcore==1.* from https://files.pythonhosted.org/packages/78/d4/e5d7e4f2174f8a4d63c8897d79eb8fe2503f7ecc03282fee1fa2719c2704/httpcore-1.0.5-py3-none-any.whl.metadata\n",
      "  Downloading httpcore-1.0.5-py3-none-any.whl.metadata (20 kB)\n",
      "Collecting h11<0.15,>=0.13 (from httpcore==1.*->httpx<1,>=0.23.0->openai)\n",
      "  Obtaining dependency information for h11<0.15,>=0.13 from https://files.pythonhosted.org/packages/95/04/ff642e65ad6b90db43e668d70ffb6736436c7ce41fcc549f4e9472234127/h11-0.14.0-py3-none-any.whl.metadata\n",
      "  Downloading h11-0.14.0-py3-none-any.whl.metadata (8.2 kB)\n",
      "Collecting annotated-types>=0.4.0 (from pydantic<3,>=1.9.0->openai)\n",
      "  Obtaining dependency information for annotated-types>=0.4.0 from https://files.pythonhosted.org/packages/28/78/d31230046e58c207284c6b2c4e8d96e6d3cb4e52354721b944d3e1ee4aa5/annotated_types-0.6.0-py3-none-any.whl.metadata\n",
      "  Downloading annotated_types-0.6.0-py3-none-any.whl.metadata (12 kB)\n",
      "Collecting pydantic-core==2.18.2 (from pydantic<3,>=1.9.0->openai)\n",
      "  Obtaining dependency information for pydantic-core==2.18.2 from https://files.pythonhosted.org/packages/83/ee/f9fcc916bd7b7238e5b6f262c9f40106786d497b8f83107ed2f72cafc186/pydantic_core-2.18.2-cp39-none-win_amd64.whl.metadata\n",
      "  Downloading pydantic_core-2.18.2-cp39-none-win_amd64.whl.metadata (6.7 kB)\n",
      "Requirement already satisfied: colorama in d:\\deep learning with pytorch\\_pytorch_\\.venv\\lib\\site-packages (from tqdm>4->openai) (0.4.6)\n",
      "Downloading openai-1.28.1-py3-none-any.whl (320 kB)\n",
      "   ---------------------------------------- 0.0/320.1 kB ? eta -:--:--\n",
      "   ----------- ---------------------------- 92.2/320.1 kB 5.1 MB/s eta 0:00:01\n",
      "   ---------------------------------- ----- 276.5/320.1 kB 4.3 MB/s eta 0:00:01\n",
      "   ---------------------------------------- 320.1/320.1 kB 4.0 MB/s eta 0:00:00\n",
      "Using cached anyio-4.3.0-py3-none-any.whl (85 kB)\n",
      "Using cached distro-1.9.0-py3-none-any.whl (20 kB)\n",
      "Using cached httpx-0.27.0-py3-none-any.whl (75 kB)\n",
      "Using cached httpcore-1.0.5-py3-none-any.whl (77 kB)\n",
      "Downloading pydantic-2.7.1-py3-none-any.whl (409 kB)\n",
      "   ---------------------------------------- 0.0/409.3 kB ? eta -:--:--\n",
      "   -------------------------- ------------- 266.2/409.3 kB 8.0 MB/s eta 0:00:01\n",
      "   ---------------------------------------- 409.3/409.3 kB 5.1 MB/s eta 0:00:00\n",
      "Downloading pydantic_core-2.18.2-cp39-none-win_amd64.whl (1.9 MB)\n",
      "   ---------------------------------------- 0.0/1.9 MB ? eta -:--:--\n",
      "   ----- ---------------------------------- 0.2/1.9 MB 7.4 MB/s eta 0:00:01\n",
      "   --------- ------------------------------ 0.5/1.9 MB 4.9 MB/s eta 0:00:01\n",
      "   -------------- ------------------------- 0.7/1.9 MB 5.5 MB/s eta 0:00:01\n",
      "   ---------------------- ----------------- 1.1/1.9 MB 5.7 MB/s eta 0:00:01\n",
      "   ---------------------------- ----------- 1.4/1.9 MB 5.8 MB/s eta 0:00:01\n",
      "   ----------------------------------- ---- 1.7/1.9 MB 6.1 MB/s eta 0:00:01\n",
      "   ---------------------------------------- 1.9/1.9 MB 5.8 MB/s eta 0:00:00\n",
      "Using cached sniffio-1.3.1-py3-none-any.whl (10 kB)\n",
      "Using cached annotated_types-0.6.0-py3-none-any.whl (12 kB)\n",
      "Using cached h11-0.14.0-py3-none-any.whl (58 kB)\n",
      "Installing collected packages: sniffio, pydantic-core, h11, distro, annotated-types, pydantic, httpcore, anyio, httpx, openai\n",
      "  Attempting uninstall: openai\n",
      "    Found existing installation: openai 0.28.1\n",
      "    Uninstalling openai-0.28.1:\n",
      "      Successfully uninstalled openai-0.28.1\n",
      "Successfully installed annotated-types-0.6.0 anyio-4.3.0 distro-1.9.0 h11-0.14.0 httpcore-1.0.5 httpx-0.27.0 openai-1.28.1 pydantic-2.7.1 pydantic-core-2.18.2 sniffio-1.3.1\n",
      "Note: you may need to restart the kernel to use updated packages.\n"
     ]
    },
    {
     "name": "stderr",
     "output_type": "stream",
     "text": [
      "\n",
      "[notice] A new release of pip is available: 23.2.1 -> 24.0\n",
      "[notice] To update, run: python.exe -m pip install --upgrade pip\n"
     ]
    }
   ],
   "source": [
    "pip install --upgrade openai\n"
   ]
  },
  {
   "cell_type": "code",
   "execution_count": 3,
   "metadata": {},
   "outputs": [
    {
     "name": "stdout",
     "output_type": "stream",
     "text": [
      "Collecting python-pptx\n",
      "  Obtaining dependency information for python-pptx from https://files.pythonhosted.org/packages/72/49/6eee83072983473e9905ffddd5c2032b9a0ca4616425560d6d582287b467/python_pptx-0.6.23-py3-none-any.whl.metadata\n",
      "  Downloading python_pptx-0.6.23-py3-none-any.whl.metadata (18 kB)\n",
      "Requirement already satisfied: lxml>=3.1.0 in d:\\deep learning with pytorch\\_pytorch_\\.venv\\lib\\site-packages (from python-pptx) (4.9.3)\n",
      "Requirement already satisfied: Pillow>=3.3.2 in d:\\deep learning with pytorch\\_pytorch_\\.venv\\lib\\site-packages (from python-pptx) (10.0.1)\n",
      "Collecting XlsxWriter>=0.5.7 (from python-pptx)\n",
      "  Obtaining dependency information for XlsxWriter>=0.5.7 from https://files.pythonhosted.org/packages/a7/ea/53d1fe468e63e092cf16e2c18d16f50c29851242f9dd12d6a66e0d7f0d02/XlsxWriter-3.2.0-py3-none-any.whl.metadata\n",
      "  Downloading XlsxWriter-3.2.0-py3-none-any.whl.metadata (2.6 kB)\n",
      "Downloading python_pptx-0.6.23-py3-none-any.whl (471 kB)\n",
      "   ---------------------------------------- 0.0/471.6 kB ? eta -:--:--\n",
      "   -------- ------------------------------- 102.4/471.6 kB 2.0 MB/s eta 0:00:01\n",
      "   -------------------------------- ------- 378.9/471.6 kB 3.4 MB/s eta 0:00:01\n",
      "   ---------------------------------------- 471.6/471.6 kB 3.3 MB/s eta 0:00:00\n",
      "Downloading XlsxWriter-3.2.0-py3-none-any.whl (159 kB)\n",
      "   ---------------------------------------- 0.0/159.9 kB ? eta -:--:--\n",
      "   ---------------------------------------- 159.9/159.9 kB ? eta 0:00:00\n",
      "Installing collected packages: XlsxWriter, python-pptx\n",
      "Successfully installed XlsxWriter-3.2.0 python-pptx-0.6.23\n",
      "Note: you may need to restart the kernel to use updated packages.\n"
     ]
    },
    {
     "name": "stderr",
     "output_type": "stream",
     "text": [
      "\n",
      "[notice] A new release of pip is available: 23.2.1 -> 24.0\n",
      "[notice] To update, run: python.exe -m pip install --upgrade pip\n"
     ]
    }
   ],
   "source": [
    "pip install python-pptx"
   ]
  },
  {
   "cell_type": "code",
   "execution_count": 1,
   "metadata": {},
   "outputs": [],
   "source": [
    "import openai"
   ]
  },
  {
   "cell_type": "code",
   "execution_count": 2,
   "metadata": {},
   "outputs": [
    {
     "name": "stdout",
     "output_type": "stream",
     "text": [
      "1.28.1\n"
     ]
    }
   ],
   "source": [
    "print(openai.__version__)"
   ]
  },
  {
   "cell_type": "code",
   "execution_count": 8,
   "metadata": {},
   "outputs": [
    {
     "name": "stdout",
     "output_type": "stream",
     "text": [
      " * Serving Flask app '__main__'\n",
      " * Debug mode: on\n"
     ]
    },
    {
     "name": "stderr",
     "output_type": "stream",
     "text": [
      "WARNING: This is a development server. Do not use it in a production deployment. Use a production WSGI server instead.\n",
      " * Running on http://127.0.0.1:5000\n",
      "Press CTRL+C to quit\n"
     ]
    }
   ],
   "source": [
    "from flask import Flask, render_template, request, send_file\n",
    "from pptx import Presentation\n",
    "from pptx.util import Pt\n",
    "import os\n",
    "import io\n",
    "from pptx.enum.text import PP_ALIGN\n",
    "from pptx.dml.color import RGBColor\n",
    "from openai import OpenAI\n",
    "\n",
    "app = Flask(__name__)\n",
    "\n",
    "@app.route('/')\n",
    "def index():\n",
    "    return render_template('index.html')\n",
    "\n",
    "@app.route('/generate_ppt', methods=['POST'])\n",
    "def generate_ppt():\n",
    "    api_key = \"sk-proj-TYcssHY0HC7h0uTnCDI4T3BlbkFJtZa3DvaZLAJctiACaze2\"  # Fetch your API key from environment variables\n",
    "    if not api_key:\n",
    "        return {\"error\": \"OpenAI API key not found.\"}\n",
    "\n",
    "    print(api_key)\n",
    "    client = OpenAI(api_key=api_key)\n",
    "\n",
    "    TEMPLATE_FILE = 'C:\\\\Users\\\\adith\\\\Desktop\\\\New folder\\\\template3.pptx'\n",
    "    if not os.path.exists(TEMPLATE_FILE):\n",
    "        return {\"error\": \"Template file not found.\"}\n",
    "\n",
    "    data = request.get_json()\n",
    "    if not data:\n",
    "        return {\"error\": \"No data received.\"}\n",
    "\n",
    "    presentation_title = data.get('presentation_title')\n",
    "    slide_contents = data.get('slide_contents')\n",
    "\n",
    "    user_message_content = f\"Create a presentation with 3 slides.\\n\" \\\n",
    "                           f\"Presentation title: {presentation_title}\\n\" \\\n",
    "                           f\"Slide content: {slide_contents}\\n\"\n",
    "\n",
    "    chat_completion = client.chat.completions.create(\n",
    "        messages=[\n",
    "            {\"role\": \"system\", \"content\": \"You are an assistant that gives ideas for PowerPoint presentations.\"},\n",
    "            {\"role\": \"user\", \"content\": user_message_content},\n",
    "        ],\n",
    "        model=\"gpt-3.5-turbo\",\n",
    "    )\n",
    "\n",
    "    if chat_completion.choices[0].message.content:\n",
    "        generated_text = chat_completion.choices[0].message.content\n",
    "\n",
    "        presentation = Presentation(TEMPLATE_FILE)\n",
    "\n",
    "        slides = generated_text.split(\"Slide\")\n",
    "\n",
    "        if len(slides) - 1 <= len(presentation.slides):\n",
    "            for i, slide_content in enumerate(slides[1:], start=0):\n",
    "                content_lines = slide_content.strip().split(\"\\n\")\n",
    "                if len(content_lines) >= 2:\n",
    "                    slide_title = content_lines[0].strip()\n",
    "                    slide_content = content_lines[1:]  # Extract bullet points\n",
    "\n",
    "                    slide = presentation.slides[i]\n",
    "                    title = slide.shapes.title\n",
    "                    content_box = slide.placeholders[1]\n",
    "\n",
    "                    title.text = slide_title\n",
    "                    title.text_frame.paragraphs[0].font.color.rgb = RGBColor(255, 255, 255)\n",
    "\n",
    "                    content_box.text = \"\"  # Clear existing text\n",
    "                    content_frame = content_box.text_frame\n",
    "                    content_frame.clear()  # Clear existing paragraphs\n",
    "                    for point in slide_content:\n",
    "                        p = content_frame.add_paragraph()\n",
    "                        p.text = point.strip()\n",
    "                        p.font.color.rgb = RGBColor(255, 255, 255)\n",
    "                        p.space_after = Pt(14)  # Adjust spacing between bullet points\n",
    "\n",
    "        else:\n",
    "            return {\"error\": \"The template has fewer slides than required.\"}\n",
    "\n",
    "        pptx_bytes = io.BytesIO()\n",
    "        presentation.save(pptx_bytes)\n",
    "        pptx_bytes.seek(0)\n",
    "\n",
    "        return send_file(\n",
    "                pptx_bytes,\n",
    "                mimetype='application/vnd.openxmlformats-officedocument.presentationml.presentation',\n",
    "                as_attachment=True,\n",
    "                download_name=f\"{presentation_title}.pptx\"\n",
    ")\n",
    "\n",
    "    else:\n",
    "        return {\"error\": \"No response from OpenAI.\"}\n",
    "\n",
    "\n",
    "app.run(debug=True, use_reloader=False)"
   ]
  },
  {
   "cell_type": "code",
   "execution_count": null,
   "metadata": {},
   "outputs": [],
   "source": []
  }
 ],
 "metadata": {
  "kernelspec": {
   "display_name": "PyTorchWork",
   "language": "python",
   "name": "pytorchwork"
  },
  "language_info": {
   "codemirror_mode": {
    "name": "ipython",
    "version": 3
   },
   "file_extension": ".py",
   "mimetype": "text/x-python",
   "name": "python",
   "nbconvert_exporter": "python",
   "pygments_lexer": "ipython3",
   "version": "3.9.0"
  }
 },
 "nbformat": 4,
 "nbformat_minor": 2
}
